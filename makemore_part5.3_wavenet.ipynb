{
 "cells": [
  {
   "cell_type": "code",
   "execution_count": 8,
   "metadata": {},
   "outputs": [],
   "source": [
    "import torch\n",
    "import torch.nn as nn\n",
    "import torch.nn.functional as F\n",
    "import matplotlib.pyplot as plt # for making figures\n",
    "%matplotlib inline"
   ]
  },
  {
   "cell_type": "code",
   "execution_count": 9,
   "metadata": {},
   "outputs": [
    {
     "name": "stdout",
     "output_type": "stream",
     "text": [
      "32033\n",
      "15\n",
      "['emma', 'olivia', 'ava', 'isabella', 'sophia', 'charlotte', 'mia', 'amelia']\n"
     ]
    }
   ],
   "source": [
    "# read in all the words\n",
    "words = open('names.txt', 'r').read().splitlines()\n",
    "print(len(words))\n",
    "print(max(len(w) for w in words))\n",
    "print(words[:8])"
   ]
  },
  {
   "cell_type": "code",
   "execution_count": 10,
   "metadata": {},
   "outputs": [
    {
     "name": "stdout",
     "output_type": "stream",
     "text": [
      "{1: 'a', 2: 'b', 3: 'c', 4: 'd', 5: 'e', 6: 'f', 7: 'g', 8: 'h', 9: 'i', 10: 'j', 11: 'k', 12: 'l', 13: 'm', 14: 'n', 15: 'o', 16: 'p', 17: 'q', 18: 'r', 19: 's', 20: 't', 21: 'u', 22: 'v', 23: 'w', 24: 'x', 25: 'y', 26: 'z', 0: '.'}\n",
      "27\n"
     ]
    }
   ],
   "source": [
    "# build the vocabulary of characters and mappings to/from integers\n",
    "chars = sorted(list(set(''.join(words))))\n",
    "stoi = {s:i+1 for i,s in enumerate(chars)}\n",
    "stoi['.'] = 0\n",
    "itos = {i:s for s,i in stoi.items()}\n",
    "vocab_size = len(itos)\n",
    "print(itos)\n",
    "print(vocab_size)"
   ]
  },
  {
   "cell_type": "code",
   "execution_count": 11,
   "metadata": {},
   "outputs": [],
   "source": [
    "# shuffle up the words\n",
    "import random\n",
    "random.seed(42)\n",
    "random.shuffle(words)"
   ]
  },
  {
   "cell_type": "code",
   "execution_count": 12,
   "metadata": {},
   "outputs": [
    {
     "name": "stdout",
     "output_type": "stream",
     "text": [
      "torch.Size([182580, 8]) torch.Size([182580])\n",
      "torch.Size([22767, 8]) torch.Size([22767])\n",
      "torch.Size([22799, 8]) torch.Size([22799])\n"
     ]
    }
   ],
   "source": [
    "# build the dataset\n",
    "block_size = 8 # context length: how many characters do we take to predict the next one\n",
    "\n",
    "def build_dataset(words):  \n",
    "  X, Y = [], []\n",
    "  \n",
    "  for w in words:\n",
    "    context = [0] * block_size\n",
    "    for ch in w + '.':\n",
    "      ix = stoi[ch]\n",
    "      X.append(context)\n",
    "      Y.append(ix)\n",
    "      context = context[1:] + [ix] # crop and append\n",
    "\n",
    "  X = torch.tensor(X)\n",
    "  Y = torch.tensor(Y)\n",
    "  print(X.shape, Y.shape)\n",
    "  return X, Y\n",
    "\n",
    "import random\n",
    "random.seed(42)\n",
    "random.shuffle(words)\n",
    "n1 = int(0.8*len(words))\n",
    "n2 = int(0.9*len(words))\n",
    "\n",
    "Xtr,  Ytr  = build_dataset(words[:n1])     # 80%\n",
    "Xdev, Ydev = build_dataset(words[n1:n2])   # 10%\n",
    "Xte,  Yte  = build_dataset(words[n2:])     # 10%"
   ]
  },
  {
   "cell_type": "code",
   "execution_count": 13,
   "metadata": {},
   "outputs": [
    {
     "name": "stdout",
     "output_type": "stream",
     "text": [
      "........ --> e\n",
      ".......e --> b\n",
      "......eb --> r\n",
      ".....ebr --> i\n",
      "....ebri --> m\n",
      "...ebrim --> a\n",
      "..ebrima --> .\n",
      "........ --> h\n",
      ".......h --> i\n",
      "......hi --> l\n",
      ".....hil --> t\n",
      "....hilt --> o\n",
      "...hilto --> n\n",
      "..hilton --> .\n",
      "........ --> j\n",
      ".......j --> h\n",
      "......jh --> e\n",
      ".....jhe --> n\n",
      "....jhen --> e\n",
      "...jhene --> .\n"
     ]
    }
   ],
   "source": [
    "for x, y in zip(Xtr[:20], Ytr[:20]):\n",
    "  print(''.join(itos[ix.item()] for ix in x), '-->', itos[y.item()])"
   ]
  },
  {
   "cell_type": "markdown",
   "metadata": {},
   "source": [
    "<img src=\"images/residual_skip_connections.png\" width=\"800\">"
   ]
  },
  {
   "cell_type": "code",
   "execution_count": null,
   "metadata": {},
   "outputs": [],
   "source": [
    "# --- Causal Convolution ---\n",
    "class CausalConv1d(nn.Module):\n",
    "    \"\"\"\n",
    "    A 1D convolution that applies left-padding so that the convolution is causal.\n",
    "    \"\"\"\n",
    "    def __init__(self, in_channels, out_channels, kernel_size, dilation=1):\n",
    "        super(CausalConv1d, self).__init__()\n",
    "        self.kernel_size = kernel_size\n",
    "        self.dilation = dilation\n",
    "        # We do not apply padding here, we'll handle it in forward\n",
    "        self.conv = nn.Conv1d(in_channels, out_channels, kernel_size,\n",
    "                              padding=0, dilation=dilation)\n",
    "    \n",
    "    def forward(self, x):\n",
    "        # x: (batch, channels, time)\n",
    "        pad = (self.kernel_size - 1) * self.dilation\n",
    "        # Pad on the left (only) so that no future information is used.\n",
    "        x = F.pad(x, (pad, 0))\n",
    "        return self.conv(x)\n",
    "\n",
    "# --- WaveNet Residual Block ---\n",
    "class WaveNetResidualBlock(nn.Module):\n",
    "    \"\"\"\n",
    "    A single WaveNet block that performs:\n",
    "      - Two causal dilated convolutions (for filter and gate)\n",
    "      - Gated activation (tanh(filter) * sigmoid(gate))\n",
    "      - 1x1 convolution for the residual output\n",
    "      - 1x1 convolution for the skip connection\n",
    "    \"\"\"\n",
    "    def __init__(self, residual_channels, skip_channels, kernel_size, dilation):\n",
    "        super(WaveNetResidualBlock, self).__init__()\n",
    "        self.conv_filter = CausalConv1d(residual_channels, residual_channels,\n",
    "                                        kernel_size, dilation=dilation)\n",
    "        self.conv_gate = CausalConv1d(residual_channels, residual_channels,\n",
    "                                      kernel_size, dilation=dilation)\n",
    "        self.conv_residual = nn.Conv1d(residual_channels, residual_channels, kernel_size=1)\n",
    "        self.conv_skip = nn.Conv1d(residual_channels, skip_channels, kernel_size=1)\n",
    "    \n",
    "    def forward(self, x):\n",
    "        # x shape: (batch, residual_channels, time)\n",
    "        filter_out = self.conv_filter(x)\n",
    "        gate_out = self.conv_gate(x)\n",
    "        # Apply gated activation unit\n",
    "        gated_activation = torch.tanh(filter_out) * torch.sigmoid(gate_out)\n",
    "        # Compute residual and skip outputs\n",
    "        residual = self.conv_residual(gated_activation)\n",
    "        skip = self.conv_skip(gated_activation)\n",
    "        # Residual connection: add input x\n",
    "        out = x + residual\n",
    "        return out, skip\n",
    "\n",
    "# --- WaveNet Model ---\n",
    "class WaveNetModel(nn.Module):\n",
    "    \"\"\"\n",
    "    WaveNet model for next-character prediction.\n",
    "    \n",
    "    Args:\n",
    "      vocab_size: Number of characters in the vocabulary.\n",
    "      n_embd: Dimensionality of the character embeddings (e.g., 24).\n",
    "      dilations: List of dilation factors, e.g. [1, 2, 4, 8].\n",
    "    \"\"\"\n",
    "    def __init__(self, vocab_size, n_embd, dilations):\n",
    "        super(WaveNetModel, self).__init__()\n",
    "        self.vocab_size = vocab_size\n",
    "        self.n_embd = n_embd\n",
    "        residual_channels =  n_embd\n",
    "        skip_channels =  n_embd\n",
    "\n",
    "        # Embedding: converts character indices to vectors.\n",
    "        self.embedding = nn.Embedding(vocab_size, n_embd)\n",
    "        \n",
    "        # Initial 1x1 convolution to map embedding dimension to residual channels.\n",
    "        self.initial_conv = nn.Conv1d(n_embd, residual_channels, kernel_size=1)\n",
    "        \n",
    "        # Stack a sequence of WaveNet residual blocks\n",
    "        self.res_blocks = nn.ModuleList([\n",
    "            WaveNetResidualBlock(residual_channels, skip_channels, kernel_size=2, dilation=d)\n",
    "            for d in dilations\n",
    "        ])\n",
    "        \n",
    "        # Final processing: a couple of 1x1 convolutions with ReLU activations.\n",
    "        self.final_layers = nn.Sequential(\n",
    "            nn.ReLU(),\n",
    "            nn.Conv1d(skip_channels, skip_channels, kernel_size=1),\n",
    "            nn.ReLU(),\n",
    "            nn.Conv1d(skip_channels, vocab_size, kernel_size=1)\n",
    "        )\n",
    "    \n",
    "    def forward(self, x):\n",
    "        \"\"\"\n",
    "        Forward pass.\n",
    "        Args:\n",
    "          x: LongTensor of shape (batch, sequence_length) containing character indices.\n",
    "        Returns:\n",
    "          logits: Tensor of shape (batch, vocab_size) representing raw scores for the next character.\n",
    "        \"\"\"\n",
    "        # Embed the input: (batch, seq_length) -> (batch, seq_length, n_embd)\n",
    "        x = self.embedding(x)\n",
    "        # Transpose to (batch, n_embd, seq_length) for 1D convs.\n",
    "        x = x.transpose(1, 2)\n",
    "        x = self.initial_conv(x)\n",
    "        \n",
    "        # Accumulate skip connections from all residual blocks.\n",
    "        skip_sum = 0\n",
    "        for res_block in self.res_blocks:\n",
    "            x, skip = res_block(x)\n",
    "            skip_sum = skip_sum + skip\n",
    "        \n",
    "        out = self.final_layers(skip_sum)\n",
    "        # For next-character prediction, take the output at the last time step.\n",
    "        logits = out[:, :, -1]  # shape: (batch, vocab_size)\n",
    "        return logits"
   ]
  },
  {
   "cell_type": "code",
   "execution_count": 16,
   "metadata": {},
   "outputs": [],
   "source": [
    "torch.manual_seed(42); # seed rng for reproducibility"
   ]
  },
  {
   "cell_type": "code",
   "execution_count": 19,
   "metadata": {},
   "outputs": [
    {
     "name": "stdout",
     "output_type": "stream",
     "text": [
      "      0/ 200000: 4.6207\n",
      "   1000/ 200000: 2.5025\n",
      "   2000/ 200000: 2.2735\n",
      "   3000/ 200000: 2.3337\n",
      "   4000/ 200000: 2.2508\n",
      "   5000/ 200000: 2.2727\n",
      "   6000/ 200000: 1.8421\n",
      "   7000/ 200000: 1.6884\n",
      "   8000/ 200000: 2.1423\n",
      "   9000/ 200000: 1.9282\n",
      "  10000/ 200000: 2.0336\n",
      "  11000/ 200000: 1.9139\n",
      "  12000/ 200000: 2.1367\n",
      "  13000/ 200000: 2.3079\n",
      "  14000/ 200000: 1.7968\n",
      "  15000/ 200000: 1.9649\n",
      "  16000/ 200000: 2.3789\n",
      "  17000/ 200000: 1.9502\n",
      "  18000/ 200000: 2.0130\n",
      "  19000/ 200000: 1.8557\n",
      "  20000/ 200000: 2.2340\n",
      "  21000/ 200000: 2.0547\n",
      "  22000/ 200000: 2.1084\n",
      "  23000/ 200000: 2.0256\n",
      "  24000/ 200000: 2.3446\n",
      "  25000/ 200000: 2.5261\n",
      "  26000/ 200000: 2.1492\n",
      "  27000/ 200000: 2.1127\n",
      "  28000/ 200000: 1.7812\n",
      "  29000/ 200000: 1.7995\n",
      "  30000/ 200000: 2.3064\n",
      "  31000/ 200000: 2.2722\n",
      "  32000/ 200000: 1.8161\n",
      "  33000/ 200000: 2.1238\n",
      "  34000/ 200000: 1.9021\n",
      "  35000/ 200000: 2.3482\n",
      "  36000/ 200000: 2.4938\n",
      "  37000/ 200000: 2.2492\n",
      "  38000/ 200000: 1.8534\n",
      "  39000/ 200000: 2.2530\n",
      "  40000/ 200000: 2.0314\n",
      "  41000/ 200000: 2.2118\n",
      "  42000/ 200000: 1.8206\n",
      "  43000/ 200000: 1.9981\n",
      "  44000/ 200000: 1.8962\n",
      "  45000/ 200000: 2.1016\n",
      "  46000/ 200000: 1.8585\n",
      "  47000/ 200000: 2.2737\n",
      "  48000/ 200000: 2.0866\n",
      "  49000/ 200000: 2.1204\n",
      "  50000/ 200000: 1.8975\n",
      "  51000/ 200000: 2.2286\n",
      "  52000/ 200000: 1.9360\n",
      "  53000/ 200000: 1.7059\n",
      "  54000/ 200000: 2.2202\n",
      "  55000/ 200000: 2.1868\n",
      "  56000/ 200000: 1.9749\n",
      "  57000/ 200000: 1.8386\n",
      "  58000/ 200000: 1.9373\n",
      "  59000/ 200000: 1.9056\n",
      "  60000/ 200000: 1.8956\n",
      "  61000/ 200000: 2.0196\n",
      "  62000/ 200000: 1.9726\n",
      "  63000/ 200000: 2.2301\n",
      "  64000/ 200000: 1.9527\n",
      "  65000/ 200000: 1.7464\n",
      "  66000/ 200000: 2.0176\n",
      "  67000/ 200000: 1.8053\n",
      "  68000/ 200000: 2.0159\n",
      "  69000/ 200000: 2.1726\n",
      "  70000/ 200000: 1.9815\n",
      "  71000/ 200000: 2.1653\n",
      "  72000/ 200000: 1.7555\n",
      "  73000/ 200000: 2.3314\n",
      "  74000/ 200000: 1.8333\n",
      "  75000/ 200000: 1.8621\n",
      "  76000/ 200000: 2.2737\n",
      "  77000/ 200000: 2.4802\n",
      "  78000/ 200000: 1.8567\n",
      "  79000/ 200000: 2.1576\n",
      "  80000/ 200000: 2.0908\n",
      "  81000/ 200000: 1.7791\n",
      "  82000/ 200000: 1.7705\n",
      "  83000/ 200000: 2.3121\n",
      "  84000/ 200000: 2.1129\n",
      "  85000/ 200000: 2.0691\n",
      "  86000/ 200000: 2.1233\n",
      "  87000/ 200000: 1.8231\n",
      "  88000/ 200000: 1.9677\n",
      "  89000/ 200000: 1.7043\n",
      "  90000/ 200000: 2.1031\n",
      "  91000/ 200000: 1.5998\n",
      "  92000/ 200000: 2.0871\n",
      "  93000/ 200000: 1.7055\n",
      "  94000/ 200000: 1.8660\n",
      "  95000/ 200000: 1.7711\n",
      "  96000/ 200000: 2.0773\n",
      "  97000/ 200000: 1.5904\n",
      "  98000/ 200000: 1.8001\n",
      "  99000/ 200000: 1.9657\n",
      " 100000/ 200000: 1.7174\n",
      " 101000/ 200000: 1.9333\n",
      " 102000/ 200000: 2.5388\n",
      " 103000/ 200000: 2.3408\n",
      " 104000/ 200000: 1.8187\n",
      " 105000/ 200000: 1.9102\n",
      " 106000/ 200000: 1.9551\n",
      " 107000/ 200000: 1.8917\n",
      " 108000/ 200000: 1.2482\n",
      " 109000/ 200000: 2.2910\n",
      " 110000/ 200000: 1.8178\n",
      " 111000/ 200000: 1.9862\n",
      " 112000/ 200000: 1.9389\n",
      " 113000/ 200000: 2.3614\n",
      " 114000/ 200000: 2.2700\n",
      " 115000/ 200000: 1.8636\n",
      " 116000/ 200000: 2.0690\n",
      " 117000/ 200000: 2.2867\n",
      " 118000/ 200000: 2.2424\n",
      " 119000/ 200000: 1.4959\n",
      " 120000/ 200000: 1.8655\n",
      " 121000/ 200000: 2.2488\n",
      " 122000/ 200000: 1.9742\n",
      " 123000/ 200000: 2.0047\n",
      " 124000/ 200000: 1.9502\n",
      " 125000/ 200000: 1.6732\n",
      " 126000/ 200000: 1.9642\n",
      " 127000/ 200000: 2.0945\n",
      " 128000/ 200000: 1.8406\n",
      " 129000/ 200000: 2.2424\n",
      " 130000/ 200000: 1.5463\n",
      " 131000/ 200000: 1.7492\n",
      " 132000/ 200000: 1.9810\n",
      " 133000/ 200000: 2.1289\n",
      " 134000/ 200000: 1.6866\n",
      " 135000/ 200000: 1.9793\n",
      " 136000/ 200000: 1.9437\n",
      " 137000/ 200000: 2.1354\n",
      " 138000/ 200000: 1.8466\n",
      " 139000/ 200000: 2.0713\n",
      " 140000/ 200000: 2.1345\n",
      " 141000/ 200000: 1.6469\n",
      " 142000/ 200000: 1.7835\n",
      " 143000/ 200000: 1.9485\n",
      " 144000/ 200000: 1.6012\n",
      " 145000/ 200000: 1.7905\n",
      " 146000/ 200000: 1.9281\n",
      " 147000/ 200000: 2.1621\n",
      " 148000/ 200000: 2.0841\n",
      " 149000/ 200000: 1.9665\n",
      " 150000/ 200000: 1.6147\n",
      " 151000/ 200000: 1.7426\n",
      " 152000/ 200000: 1.7642\n",
      " 153000/ 200000: 2.0996\n",
      " 154000/ 200000: 2.2628\n",
      " 155000/ 200000: 2.1473\n",
      " 156000/ 200000: 2.0376\n",
      " 157000/ 200000: 2.0191\n",
      " 158000/ 200000: 2.0671\n",
      " 159000/ 200000: 2.2227\n",
      " 160000/ 200000: 2.0565\n",
      " 161000/ 200000: 1.9488\n",
      " 162000/ 200000: 2.1345\n",
      " 163000/ 200000: 1.6917\n",
      " 164000/ 200000: 2.0809\n",
      " 165000/ 200000: 2.8233\n",
      " 166000/ 200000: 1.4987\n",
      " 167000/ 200000: 1.6514\n",
      " 168000/ 200000: 2.2019\n",
      " 169000/ 200000: 2.0851\n",
      " 170000/ 200000: 2.0741\n",
      " 171000/ 200000: 1.8659\n",
      " 172000/ 200000: 2.2099\n",
      " 173000/ 200000: 2.3618\n",
      " 174000/ 200000: 2.3550\n",
      " 175000/ 200000: 2.0905\n",
      " 176000/ 200000: 2.0419\n",
      " 177000/ 200000: 2.3370\n",
      " 178000/ 200000: 1.7408\n",
      " 179000/ 200000: 2.1159\n",
      " 180000/ 200000: 1.8032\n",
      " 181000/ 200000: 1.8008\n",
      " 182000/ 200000: 1.8936\n",
      " 183000/ 200000: 1.8068\n",
      " 184000/ 200000: 2.4745\n",
      " 185000/ 200000: 1.7942\n",
      " 186000/ 200000: 1.9382\n",
      " 187000/ 200000: 1.9395\n",
      " 188000/ 200000: 1.8588\n",
      " 189000/ 200000: 2.1115\n",
      " 190000/ 200000: 1.8068\n",
      " 191000/ 200000: 2.0507\n",
      " 192000/ 200000: 1.6807\n",
      " 193000/ 200000: 2.2931\n",
      " 194000/ 200000: 1.6619\n",
      " 195000/ 200000: 2.4078\n",
      " 196000/ 200000: 2.1559\n",
      " 197000/ 200000: 1.9308\n",
      " 198000/ 200000: 1.9842\n",
      " 199000/ 200000: 1.8331\n"
     ]
    }
   ],
   "source": [
    "n_embd = 24 # the dimensionality of the character embedding vectors\n",
    "dilations = [1, 2, 4, 8]\n",
    "\n",
    "# Create an instance of the model.\n",
    "model = WaveNetModel(vocab_size, n_embd, dilations)\n",
    "optimizer = torch.optim.Adam(model.parameters(), lr=0.001)\n",
    "\n",
    "max_steps = 200000\n",
    "batch_size = 32\n",
    "lossi = []\n",
    "for step in range(max_steps):\n",
    "    # Sample a random subset of the data\n",
    "    ix = torch.randint(0, Xtr.size(0), (batch_size,))\n",
    "    Xb, Yb = Xtr[ix], Ytr[ix] # batch X, Y\n",
    "  \n",
    "    # Forward pass\n",
    "    logits = model(Xb)\n",
    "    loss = F.cross_entropy(logits, Yb)\n",
    "\n",
    "    optimizer.zero_grad()\n",
    "    loss.backward()\n",
    "    optimizer.step()\n",
    "\n",
    "    # track stats\n",
    "    if step % 1000 == 0: # print every once in a while\n",
    "        print(f'{step:7d}/{max_steps:7d}: {loss.item():.4f}')\n",
    "    lossi.append(loss.log10().item())\n",
    "\n",
    "  \n"
   ]
  },
  {
   "cell_type": "code",
   "execution_count": 20,
   "metadata": {},
   "outputs": [
    {
     "data": {
      "text/plain": [
       "[<matplotlib.lines.Line2D at 0x14946ba90>]"
      ]
     },
     "execution_count": 20,
     "metadata": {},
     "output_type": "execute_result"
    },
    {
     "data": {
      "image/png": "[encoded data removed]",
      "text/plain": [
       "<Figure size 640x480 with 1 Axes>"
      ]
     },
     "metadata": {},
     "output_type": "display_data"
    }
   ],
   "source": [
    "plt.plot(lossi)"
   ]
  },
  {
   "cell_type": "code",
   "execution_count": 21,
   "metadata": {},
   "outputs": [
    {
     "data": {
      "text/plain": [
       "[<matplotlib.lines.Line2D at 0x327ab5290>]"
      ]
     },
     "execution_count": 21,
     "metadata": {},
     "output_type": "execute_result"
    },
    {
     "data": {
      "image/png": "[encoded data removed]",
      "text/plain": [
       "<Figure size 640x480 with 1 Axes>"
      ]
     },
     "metadata": {},
     "output_type": "display_data"
    }
   ],
   "source": [
    "plt.plot(torch.tensor(lossi).view(-1, 1000).mean(1))"
   ]
  },
  {
   "cell_type": "code",
   "execution_count": 22,
   "metadata": {},
   "outputs": [
    {
     "name": "stdout",
     "output_type": "stream",
     "text": [
      "train 2.007701873779297\n",
      "val 2.0868515968322754\n"
     ]
    }
   ],
   "source": [
    "@torch.no_grad() # this decorator disables gradient tracking\n",
    "def split_loss(split):\n",
    "  x,y = {\n",
    "    'train': (Xtr, Ytr),\n",
    "    'val': (Xdev, Ydev),\n",
    "    'test': (Xte, Yte),\n",
    "  }[split]\n",
    "  logits = model(x)\n",
    "  loss = F.cross_entropy(logits, y)\n",
    "  print(split, loss.item())\n",
    "\n",
    "split_loss('train')\n",
    "split_loss('val')"
   ]
  },
  {
   "cell_type": "markdown",
   "metadata": {},
   "source": [
    "With ~ 16k parameters  train 2.007701873779297 val 2.0868515968322754\n",
    "In comparison previously we had train 1.7686203718185425 val 1.988585352897644 with 76k parameters"
   ]
  },
  {
   "cell_type": "code",
   "execution_count": 23,
   "metadata": {},
   "outputs": [
    {
     "name": "stdout",
     "output_type": "stream",
     "text": [
      "aysasd.\n",
      "kham.\n",
      "mahni.\n",
      "myrah.\n",
      "deshawn.\n",
      "elisona.\n",
      "gansel.\n",
      "bovanna.\n",
      "makellio.\n",
      "nolo.\n",
      "kale.\n",
      "kicklyn.\n",
      "marclee.\n",
      "rinacie.\n",
      "oresros.\n",
      "leyah.\n",
      "lanaya.\n",
      "nyshel.\n",
      "mazell.\n",
      "kaloh.\n"
     ]
    }
   ],
   "source": [
    "# sample from the model\n",
    "for _ in range(20):\n",
    "    \n",
    "    out = []\n",
    "    context = [0] * block_size # initialize with all ...\n",
    "    while True:\n",
    "      # forward pass the neural net\n",
    "      logits = model(torch.tensor([context])) # (1,block_size) -> (1,vocab_size)\n",
    "      probs = F.softmax(logits, dim=1)\n",
    "      # sample from the distribution\n",
    "      ix = torch.multinomial(probs, num_samples=1).item()\n",
    "      # shift the context window and track the samples\n",
    "      context = context[1:] + [ix]\n",
    "      out.append(ix)\n",
    "      # if we sample the special '.' token, break\n",
    "      if ix == 0:\n",
    "        break\n",
    "    \n",
    "    print(''.join(itos[i] for i in out)) # decode and print the generated word"
   ]
  },
  {
   "cell_type": "code",
   "execution_count": null,
   "metadata": {},
   "outputs": [],
   "source": [
    "  x = F.pad(x, (pad, 0))"
   ]
  }
 ],
 "metadata": {
  "kernelspec": {
   "display_name": "nn_zero_to_hero",
   "language": "python",
   "name": "python3"
  },
  "language_info": {
   "codemirror_mode": {
    "name": "ipython",
    "version": 3
   },
   "file_extension": ".py",
   "mimetype": "text/x-python",
   "name": "python",
   "nbconvert_exporter": "python",
   "pygments_lexer": "ipython3",
   "version": "3.11.11"
  }
 },
 "nbformat": 4,
 "nbformat_minor": 2
}
