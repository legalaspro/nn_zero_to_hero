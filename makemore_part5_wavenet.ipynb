{
 "cells": [
  {
   "cell_type": "markdown",
   "metadata": {},
   "source": [
    "#### part 5 makemore - Wavenet"
   ]
  },
  {
   "cell_type": "code",
   "execution_count": 1,
   "metadata": {},
   "outputs": [],
   "source": [
    "import torch\n",
    "import torch.nn.functional as F\n",
    "import matplotlib.pyplot as plt # for making figures\n",
    "%matplotlib inline\n"
   ]
  },
  {
   "cell_type": "code",
   "execution_count": 2,
   "metadata": {},
   "outputs": [
    {
     "name": "stdout",
     "output_type": "stream",
     "text": [
      "32033\n",
      "15\n",
      "['emma', 'olivia', 'ava', 'isabella', 'sophia', 'charlotte', 'mia', 'amelia']\n"
     ]
    }
   ],
   "source": [
    "# read in all the words\n",
    "words = open('names.txt', 'r').read().splitlines()\n",
    "print(len(words))\n",
    "print(max(len(w) for w in words))\n",
    "print(words[:8])"
   ]
  },
  {
   "cell_type": "code",
   "execution_count": 6,
   "metadata": {},
   "outputs": [
    {
     "name": "stdout",
     "output_type": "stream",
     "text": [
      "{1: 'a', 2: 'b', 3: 'c', 4: 'd', 5: 'e', 6: 'f', 7: 'g', 8: 'h', 9: 'i', 10: 'j', 11: 'k', 12: 'l', 13: 'm', 14: 'n', 15: 'o', 16: 'p', 17: 'q', 18: 'r', 19: 's', 20: 't', 21: 'u', 22: 'v', 23: 'w', 24: 'x', 25: 'y', 26: 'z', 0: '.'}\n",
      "27\n"
     ]
    }
   ],
   "source": [
    "# build the vocabulary of characters and mappings to/from integers\n",
    "chars = sorted(list(set(''.join(words))))\n",
    "stoi = {s:i+1 for i,s in enumerate(chars)}\n",
    "stoi['.'] = 0\n",
    "itos = {i:s for s,i in stoi.items()}\n",
    "vocab_size = len(itos)\n",
    "print(itos)\n",
    "print(vocab_size)"
   ]
  },
  {
   "cell_type": "code",
   "execution_count": 7,
   "metadata": {},
   "outputs": [],
   "source": [
    "# shuffle up the words\n",
    "import random\n",
    "random.seed(42)\n",
    "random.shuffle(words)"
   ]
  },
  {
   "cell_type": "code",
   "execution_count": 47,
   "metadata": {},
   "outputs": [
    {
     "name": "stdout",
     "output_type": "stream",
     "text": [
      "torch.Size([182441, 8]) torch.Size([182441])\n",
      "torch.Size([22902, 8]) torch.Size([22902])\n",
      "torch.Size([22803, 8]) torch.Size([22803])\n"
     ]
    }
   ],
   "source": [
    "# build the dataset\n",
    "block_size = 8 # context length: how many characters do we take to predict the next one\n",
    "\n",
    "def build_dataset(words):  \n",
    "  X, Y = [], []\n",
    "  \n",
    "  for w in words:\n",
    "    context = [0] * block_size\n",
    "    for ch in w + '.':\n",
    "      ix = stoi[ch]\n",
    "      X.append(context)\n",
    "      Y.append(ix)\n",
    "      context = context[1:] + [ix] # crop and append\n",
    "\n",
    "  X = torch.tensor(X)\n",
    "  Y = torch.tensor(Y)\n",
    "  print(X.shape, Y.shape)\n",
    "  return X, Y\n",
    "\n",
    "import random\n",
    "random.seed(42)\n",
    "random.shuffle(words)\n",
    "n1 = int(0.8*len(words))\n",
    "n2 = int(0.9*len(words))\n",
    "\n",
    "Xtr,  Ytr  = build_dataset(words[:n1])     # 80%\n",
    "Xdev, Ydev = build_dataset(words[n1:n2])   # 10%\n",
    "Xte,  Yte  = build_dataset(words[n2:])     # 10%"
   ]
  },
  {
   "cell_type": "code",
   "execution_count": 48,
   "metadata": {},
   "outputs": [
    {
     "name": "stdout",
     "output_type": "stream",
     "text": [
      "........ --> e\n",
      ".......e --> l\n",
      "......el --> i\n",
      ".....eli --> a\n",
      "....elia --> n\n",
      "...elian --> y\n",
      "..eliany --> s\n",
      ".elianys --> .\n",
      "........ --> t\n",
      ".......t --> r\n",
      "......tr --> o\n",
      ".....tro --> y\n",
      "....troy --> .\n",
      "........ --> m\n",
      ".......m --> a\n",
      "......ma --> r\n",
      ".....mar --> k\n",
      "....mark --> u\n",
      "...marku --> s\n",
      "..markus --> .\n"
     ]
    }
   ],
   "source": [
    "for x, y in zip(Xtr[:20], Ytr[:20]):\n",
    "  print(''.join(itos[ix.item()] for ix in x), '-->', itos[y.item()])"
   ]
  },
  {
   "cell_type": "code",
   "execution_count": null,
   "metadata": {},
   "outputs": [],
   "source": [
    "# pytorchifing the code yayayayaya\n",
    "\n",
    "class Linear:\n",
    "  \n",
    "  def __init__(self, fan_in, fan_out, bias=True):\n",
    "    self.weight = torch.randn((fan_in, fan_out)) / fan_in**0.5 # kaiming init\n",
    "    self.bias = torch.zeros(fan_out) if bias else None\n",
    "  \n",
    "  def __call__(self, x):\n",
    "    self.out = x @ self.weight\n",
    "    if self.bias is not None:\n",
    "      self.out += self.bias\n",
    "    return self.out\n",
    "  \n",
    "  def parameters(self): \n",
    "    return [self.weight] + ([] if self.bias is None else [self.bias])\n",
    "\n",
    "# -------------------\n",
    "\n",
    "class BatchNorm1d:\n",
    "  \n",
    "  def __init__(self, dim, eps=1e-5, momentum=0.1):\n",
    "    self.eps = eps\n",
    "    self.momentum = momentum\n",
    "    self.training = True\n",
    "    # parameters (trained with backprop)\n",
    "    self.gamma = torch.ones(dim)\n",
    "    self.beta = torch.zeros(dim)\n",
    "    # buffers (trained with a running 'momentum update')\n",
    "    self.running_mean = torch.zeros(dim)\n",
    "    self.running_var = torch.ones(dim)\n",
    "  \n",
    "  def __call__(self, x):\n",
    "    # calculate the forward pass\n",
    "    # Input: (N, C) or (N, C, L), where N is the batch size, C is the number of features or channels, and L is the sequence length\n",
    "    # Output: (N, C) or (N, C, L) (same shape as input)\n",
    "    # Our BatchNorm1d is N, L, C, meaning C always last dim, so \n",
    "    # In official Torch BatchNorm1d, the input is (N, C, L) and ours is (N, L, C)\n",
    "    if self.training:\n",
    "      if x.ndim == 2:\n",
    "        dim = 0\n",
    "      elif x.ndim == 3:\n",
    "        dim = (0, 1)\n",
    "      xmean = x.mean(dim, keepdim=True) # batch mean\n",
    "      xvar = x.var(dim, keepdim=True) # batch variance\n",
    "    else:\n",
    "      xmean = self.running_mean\n",
    "      xvar = self.running_var\n",
    "    xhat = (x - xmean) / torch.sqrt(xvar + self.eps) # normalize to unit variance\n",
    "    self.out = self.gamma * xhat + self.beta\n",
    "    # update the buffers\n",
    "    if self.training:\n",
    "      with torch.no_grad():\n",
    "        self.running_mean = (1 - self.momentum) * self.running_mean + self.momentum * xmean\n",
    "        self.running_var = (1 - self.momentum) * self.running_var + self.momentum * xvar\n",
    "    return self.out\n",
    "  \n",
    "  def parameters(self):\n",
    "    return [self.gamma, self.beta]\n",
    "\n",
    "# -------------------\n",
    "\n",
    "class Tanh:\n",
    "  def __call__(self, x):\n",
    "    self.out = torch.tanh(x)\n",
    "    return self.out\n",
    "  def parameters(self):\n",
    "    return []\n",
    "\n",
    "# -------------------\n",
    "  \n",
    "class Embedding:\n",
    "  \n",
    "    def __init__(self, num_embeddings, embedding_dim):\n",
    "        self.weight = torch.randn((num_embeddings, embedding_dim))\n",
    "    \n",
    "    def __call__(self, x):\n",
    "        self.out = self.weight[x]\n",
    "        return self.out\n",
    "    \n",
    "    def parameters(self):\n",
    "        return [self.weight]\n",
    "\n",
    "# -------------------\n",
    "\n",
    "class FlattenConsecutive:\n",
    "\n",
    "    def __init__(self, n):\n",
    "        self.n = n\n",
    "\n",
    "    def __call__(self, x):\n",
    "        B, T, C = x.shape\n",
    "        x = x.view(B, T//self.n, C*self.n)\n",
    "        if x.shape[1] == 1:\n",
    "            x = x.squeeze(1)\n",
    "        self.out = x\n",
    "        return self.out\n",
    "    \n",
    "    def parameters(self):\n",
    "        return []\n",
    "  \n",
    "# -------------------\n",
    "\n",
    "class Sequential:\n",
    "  \n",
    "    def __init__(self, layers):\n",
    "        self.layers = layers\n",
    "    \n",
    "    def __call__(self, x):\n",
    "        for layer in self.layers:\n",
    "            x = layer(x)\n",
    "        self.out = x\n",
    "        return self.out\n",
    "  \n",
    "    def parameters(self):\n",
    "        # get parameters from all layers and stretch them out into a single list\n",
    "        return [param for layer in self.layers for param in layer.parameters()]\n"
   ]
  },
  {
   "cell_type": "code",
   "execution_count": 118,
   "metadata": {},
   "outputs": [],
   "source": [
    "torch.manual_seed(42); # seed rng for reproducibility"
   ]
  },
  {
   "cell_type": "markdown",
   "metadata": {},
   "source": [
    "<img src=\"images/waves_net.png\" width=\"800\">"
   ]
  },
  {
   "cell_type": "code",
   "execution_count": 127,
   "metadata": {},
   "outputs": [
    {
     "name": "stdout",
     "output_type": "stream",
     "text": [
      "76579\n"
     ]
    }
   ],
   "source": [
    "n_embd = 24 # the dimensionality of the character embedding vectors\n",
    "n_hidden = 128 # the number of neurons in the hidden layer of the MLP\n",
    "\n",
    "model = Sequential([\n",
    "    Embedding(vocab_size, n_embd),\n",
    "    FlattenConsecutive(2),  Linear(n_embd * 2, n_hidden, bias=False), BatchNorm1d(n_hidden), Tanh(),\n",
    "    FlattenConsecutive(2),  Linear(n_hidden * 2, n_hidden, bias=False), BatchNorm1d(n_hidden), Tanh(),\n",
    "    FlattenConsecutive(2),  Linear(n_hidden * 2, n_hidden, bias=False), BatchNorm1d(n_hidden), Tanh(),\n",
    "    Linear(n_hidden, vocab_size),\n",
    "])\n",
    "\n",
    "with torch.no_grad():\n",
    "    model.layers[-1].weight *= 0.1 # last layer make less confident\n",
    "\n",
    "parameters = model.parameters()\n",
    "print(sum(p.nelement() for p in parameters)) # number of parameters in total\n",
    "for p in parameters:\n",
    "  p.requires_grad = True"
   ]
  },
  {
   "cell_type": "code",
   "execution_count": 129,
   "metadata": {},
   "outputs": [
    {
     "name": "stdout",
     "output_type": "stream",
     "text": [
      "torch.Size([32, 8])\n"
     ]
    },
    {
     "data": {
      "text/plain": [
       "tensor([[ 0,  0,  0,  0,  0,  0,  0,  0],\n",
       "        [ 0,  0,  0,  0,  0, 10, 21, 14],\n",
       "        [ 0,  0,  0,  0,  2, 21, 18,  1],\n",
       "        [ 0,  0,  0, 19,  8,  1, 23, 14],\n",
       "        [ 0,  0,  0, 19, 16, 18, 21,  8],\n",
       "        [ 0,  0,  0,  0,  0,  0,  0,  0],\n",
       "        [ 0,  0,  0,  0,  0,  0, 19,  1],\n",
       "        [ 0,  0,  0,  0,  0,  1, 25,  8],\n",
       "        [ 0,  0,  0, 11,  9, 14, 26, 12],\n",
       "        [ 0,  0,  0,  0,  0,  0,  0,  0],\n",
       "        [ 0,  0,  0,  0,  0,  0, 11,  1],\n",
       "        [ 0,  0,  0,  0,  0,  0,  0,  0],\n",
       "        [ 0,  0,  0, 13,  1, 26,  5, 14],\n",
       "        [ 0,  0,  0,  0,  0,  0,  0, 13],\n",
       "        [ 0,  0,  0,  0,  0,  0, 19,  8],\n",
       "        [ 0,  0,  0,  0,  0,  1, 25, 13],\n",
       "        [ 0,  0,  0,  0,  5, 12, 12,  1],\n",
       "        [ 0,  0,  0,  0,  0,  0, 11,  1],\n",
       "        [ 0,  0,  0, 20, 18,  9, 19, 20],\n",
       "        [ 0,  0,  0,  0,  0,  0,  0, 13],\n",
       "        [ 0,  0,  0,  0,  0,  0,  0, 12],\n",
       "        [ 0,  0,  0,  0,  0,  0,  0, 13],\n",
       "        [ 0,  0,  0,  0,  1, 18, 13,  1],\n",
       "        [ 1, 14, 20,  8, 15, 14,  5, 12],\n",
       "        [ 0,  0,  0,  0,  0, 13,  9, 11],\n",
       "        [ 0,  0,  0,  0,  0,  0,  0,  0],\n",
       "        [ 0,  0,  0,  0,  0,  0,  3,  1],\n",
       "        [ 0,  0,  0,  0,  0,  0,  0,  2],\n",
       "        [ 0, 20,  5, 19, 19,  1, 12, 25],\n",
       "        [ 0,  0,  1,  2,  4, 21, 12,  1],\n",
       "        [ 0,  0,  0,  0,  0,  0,  0, 11],\n",
       "        [ 0,  0,  0, 18,  9,  8,  1, 14]])"
      ]
     },
     "execution_count": 129,
     "metadata": {},
     "output_type": "execute_result"
    }
   ],
   "source": [
    "ix = torch.randint(0, Xtr.shape[0], (32,)) #lets look at the batch of just 4 examples\n",
    "Xb, Yb = Xtr[ix], Ytr[ix]\n",
    "logits = model(Xb)\n",
    "print(Xb.shape)\n",
    "Xb"
   ]
  },
  {
   "cell_type": "code",
   "execution_count": 130,
   "metadata": {},
   "outputs": [
    {
     "name": "stdout",
     "output_type": "stream",
     "text": [
      "Embedding : (32, 8, 24)\n",
      "FlattenConsecutive : (32, 4, 48)\n",
      "Linear : (32, 4, 128)\n",
      "BatchNorm1d : (32, 4, 128)\n",
      "Tanh : (32, 4, 128)\n",
      "FlattenConsecutive : (32, 2, 256)\n",
      "Linear : (32, 2, 128)\n",
      "BatchNorm1d : (32, 2, 128)\n",
      "Tanh : (32, 2, 128)\n",
      "FlattenConsecutive : (32, 256)\n",
      "Linear : (32, 128)\n",
      "BatchNorm1d : (32, 128)\n",
      "Tanh : (32, 128)\n",
      "Linear : (32, 27)\n"
     ]
    }
   ],
   "source": [
    "for layer in model.layers:\n",
    "    print(layer.__class__.__name__, ':', tuple(layer.out.shape))"
   ]
  },
  {
   "cell_type": "code",
   "execution_count": 126,
   "metadata": {},
   "outputs": [
    {
     "name": "stdout",
     "output_type": "stream",
     "text": [
      "torch.Size([1, 1, 68])\n"
     ]
    }
   ],
   "source": [
    "print(model.layers[3].running_mean.shape)"
   ]
  },
  {
   "cell_type": "markdown",
   "metadata": {},
   "source": [
    "#### Let's fix batchnorm bug here"
   ]
  },
  {
   "cell_type": "code",
   "execution_count": null,
   "metadata": {},
   "outputs": [
    {
     "name": "stdout",
     "output_type": "stream",
     "text": [
      "torch.Size([32, 4, 68])\n",
      "torch.Size([1, 1, 68])\n",
      "torch.Size([1, 4, 68])\n"
     ]
    }
   ],
   "source": [
    "e = torch.randn(32, 4, 68)\n",
    "emean = e.mean((0,1), keepdim=True) # by setting (0,1) we calculate mean by 2 dimensions and get 1, 1, 68 instead of 1, 4,  68\n",
    "evar = e.var((0,1), keepdim=True) # by setting (0,1) we calculate var by 2 dimensions and get 1, 1, 68  1, 4, 68\n",
    "ehat = (e - emean) / torch.sqrt(evar + 1e-5) # 32, 4, 68 normalize to unit variance\n",
    "print(ehat.shape)\n",
    "print(emean.shape)\n"
   ]
  },
  {
   "cell_type": "code",
   "execution_count": 101,
   "metadata": {},
   "outputs": [
    {
     "data": {
      "text/plain": [
       "torch.Size([4, 27])"
      ]
     },
     "execution_count": 101,
     "metadata": {},
     "output_type": "execute_result"
    }
   ],
   "source": [
    "logits.shape"
   ]
  },
  {
   "cell_type": "code",
   "execution_count": 102,
   "metadata": {},
   "outputs": [
    {
     "data": {
      "text/plain": [
       "torch.Size([4, 8, 10])"
      ]
     },
     "execution_count": 102,
     "metadata": {},
     "output_type": "execute_result"
    }
   ],
   "source": [
    "model.layers[0].out.shape # output of the embedding layer"
   ]
  },
  {
   "cell_type": "code",
   "execution_count": 103,
   "metadata": {},
   "outputs": [
    {
     "data": {
      "text/plain": [
       "torch.Size([4, 4, 20])"
      ]
     },
     "execution_count": 103,
     "metadata": {},
     "output_type": "execute_result"
    }
   ],
   "source": [
    "model.layers[1].out.shape # output of the flatten layer"
   ]
  },
  {
   "cell_type": "code",
   "execution_count": 104,
   "metadata": {},
   "outputs": [
    {
     "data": {
      "text/plain": [
       "torch.Size([4, 4, 68])"
      ]
     },
     "execution_count": 104,
     "metadata": {},
     "output_type": "execute_result"
    }
   ],
   "source": [
    "model.layers[2].out.shape # output of the first linear layer"
   ]
  },
  {
   "cell_type": "code",
   "execution_count": 105,
   "metadata": {},
   "outputs": [
    {
     "data": {
      "text/plain": [
       "torch.Size([4, 4, 200])"
      ]
     },
     "execution_count": 105,
     "metadata": {},
     "output_type": "execute_result"
    }
   ],
   "source": [
    "(torch.randn(4, 4, 20) @ torch.randn(20, 200)  + torch.randn(200)).shape"
   ]
  },
  {
   "cell_type": "code",
   "execution_count": null,
   "metadata": {},
   "outputs": [
    {
     "data": {
      "text/plain": [
       "[1, 3, 5, 7, 9]"
      ]
     },
     "execution_count": 72,
     "metadata": {},
     "output_type": "execute_result"
    }
   ],
   "source": [
    "#  (1 2) (3 4) (5 6) (7 8)\n",
    "list(range(10))[1::2] # starts from 1 and gives every second element  [1, 3, 5, 7, 9]\n",
    "list(range(10))[::2] # starts from 0 and gives every second element  [0, 2, 4, 6, 8]"
   ]
  },
  {
   "cell_type": "code",
   "execution_count": 79,
   "metadata": {},
   "outputs": [
    {
     "name": "stdout",
     "output_type": "stream",
     "text": [
      "torch.Size([4, 4, 20])\n"
     ]
    }
   ],
   "source": [
    "e = torch.randn(4,8,10) # goal want this to be  (4, 4, 20) where consecutive 10d vectors are concatenated\n",
    "explicit = torch.cat([e[:,::2, :], e[:,1::2, :]], dim=2) # concatenate along the last dimension (4, 4, 10) and (4,4,10) -> (4, 4, 20)\n",
    "print(explicit.shape)"
   ]
  },
  {
   "cell_type": "code",
   "execution_count": 81,
   "metadata": {},
   "outputs": [
    {
     "data": {
      "text/plain": [
       "tensor(True)"
      ]
     },
     "execution_count": 81,
     "metadata": {},
     "output_type": "execute_result"
    }
   ],
   "source": [
    "(e.view(4,4,20) == explicit).all() # same thing as above but using view"
   ]
  },
  {
   "cell_type": "code",
   "execution_count": 131,
   "metadata": {},
   "outputs": [
    {
     "name": "stdout",
     "output_type": "stream",
     "text": [
      "      0/ 200000: 3.2965\n",
      "  10000/ 200000: 2.1871\n",
      "  20000/ 200000: 1.9245\n",
      "  30000/ 200000: 2.0503\n",
      "  40000/ 200000: 2.2806\n",
      "  50000/ 200000: 2.2586\n",
      "  60000/ 200000: 2.1609\n",
      "  70000/ 200000: 2.0563\n",
      "  80000/ 200000: 1.9508\n",
      "  90000/ 200000: 2.0375\n",
      " 100000/ 200000: 2.0458\n",
      " 110000/ 200000: 1.3223\n",
      " 120000/ 200000: 1.7299\n",
      " 130000/ 200000: 2.1027\n",
      " 140000/ 200000: 1.9527\n",
      " 150000/ 200000: 1.7263\n",
      " 160000/ 200000: 1.9487\n",
      " 170000/ 200000: 1.7910\n",
      " 180000/ 200000: 1.6404\n",
      " 190000/ 200000: 1.7060\n"
     ]
    }
   ],
   "source": [
    "# same optimization last time \n",
    "max_steps = 200000\n",
    "batch_size = 32\n",
    "lossi = []\n",
    "\n",
    "for i in range(max_steps):\n",
    "    # minibatch construct\n",
    "    ix = torch.randint(0, Xtr.shape[0], (batch_size,))  # take random 32 examples to use in training\n",
    "    Xb, Yb = Xtr[ix], Ytr[ix] # batch X, Y\n",
    "\n",
    "    # forward pass\n",
    "    # emb = C[Xb] # [32,3,10] - embed characters into vectors\n",
    "    # x = emb.view(emb.shape[0], -1) # concatenate the vectors - [32, 30]\n",
    "    logits = model(Xb) # forward pass\n",
    "    loss = F.cross_entropy(logits, Yb) #  loss function \n",
    "    \n",
    "    # backward pass\n",
    "    # for layer in layers:\n",
    "    #     layer.out.retain_grad() # AFTER DEBUG would take out retain grad\n",
    "    for p in parameters:\n",
    "        p.grad = None\n",
    "    loss.backward()\n",
    "    \n",
    "    # update simple SGD\n",
    "    lr = 0.1 if i < 150000 else 0.01 # step learning rate decay\n",
    "    for p in parameters:\n",
    "        p.data += -lr * p.grad\n",
    "    \n",
    "    # track stats\n",
    "    if i % 10000 == 0: # print every once in a while\n",
    "        print(f'{i:7d}/{max_steps:7d}: {loss.item():.4f}')\n",
    "    lossi.append(loss.log10().item())\n",
    "\n",
    "    # if i >= 1000:\n",
    "    #     break  # After DEBUG would take out obviously to run full optimisation "
   ]
  },
  {
   "cell_type": "code",
   "execution_count": 132,
   "metadata": {},
   "outputs": [
    {
     "data": {
      "text/plain": [
       "[<matplotlib.lines.Line2D at 0x13ad0f950>]"
      ]
     },
     "execution_count": 132,
     "metadata": {},
     "output_type": "execute_result"
    },
    {
     "data": {
      "image/png": "[encoded data removed]",
      "text/plain": [
       "<Figure size 640x480 with 1 Axes>"
      ]
     },
     "metadata": {},
     "output_type": "display_data"
    }
   ],
   "source": [
    "plt.plot(lossi)"
   ]
  },
  {
   "cell_type": "code",
   "execution_count": 133,
   "metadata": {},
   "outputs": [
    {
     "data": {
      "text/plain": [
       "[<matplotlib.lines.Line2D at 0x13b5dde10>]"
      ]
     },
     "execution_count": 133,
     "metadata": {},
     "output_type": "execute_result"
    },
    {
     "data": {
      "image/png": "[encoded data removed]",
      "text/plain": [
       "<Figure size 640x480 with 1 Axes>"
      ]
     },
     "metadata": {},
     "output_type": "display_data"
    }
   ],
   "source": [
    "plt.plot(torch.tensor(lossi).view(-1, 1000).mean(1))"
   ]
  },
  {
   "cell_type": "code",
   "execution_count": 134,
   "metadata": {},
   "outputs": [],
   "source": [
    "# put layers in eval mode (needed for batchnorm especially)\n",
    "for layer in model.layers:\n",
    "    if hasattr(layer, 'running_mean'):\n",
    "        layer.training = False"
   ]
  },
  {
   "cell_type": "code",
   "execution_count": 135,
   "metadata": {},
   "outputs": [
    {
     "name": "stdout",
     "output_type": "stream",
     "text": [
      "train 1.7686203718185425\n",
      "val 1.988585352897644\n"
     ]
    }
   ],
   "source": [
    "@torch.no_grad() # this decorator disables gradient tracking\n",
    "def split_loss(split):\n",
    "  x,y = {\n",
    "    'train': (Xtr, Ytr),\n",
    "    'val': (Xdev, Ydev),\n",
    "    'test': (Xte, Yte),\n",
    "  }[split]\n",
    "  logits = model(x)\n",
    "  loss = F.cross_entropy(logits, y)\n",
    "  print(split, loss.item())\n",
    "\n",
    "split_loss('train')\n",
    "split_loss('val')"
   ]
  },
  {
   "cell_type": "markdown",
   "metadata": {},
   "source": [
    "#### perfomance log\n",
    "* 3 symbol context (200 hidden, 12k params) train 2.058222770690918 val 2.1158394813537598\n",
    "* 8 symbol context (22k params) train 1.921154260635376 val 2.025261163711548\n",
    "* flat -> hierarchical (22k params) train 1.9421131610870361 val 2.022244691848755\n",
    "* fix bug in batchnorm (22k params) train 1.9114701747894287 val 2.017404556274414\n",
    "* scale up network to n_embd=24, n_hidden=128 (76k params) train 1.7686203718185425 val 1.988585352897644"
   ]
  },
  {
   "cell_type": "code",
   "execution_count": 58,
   "metadata": {},
   "outputs": [
    {
     "name": "stdout",
     "output_type": "stream",
     "text": [
      "odhi.\n",
      "aniyar.\n",
      "gacy.\n",
      "denasio.\n",
      "mavenny.\n",
      "dony.\n",
      "damarione.\n",
      "halleytindre.\n",
      "bratymime.\n",
      "noy.\n",
      "aalianna.\n",
      "marvo.\n",
      "riskello.\n",
      "shamei.\n",
      "annalise.\n",
      "clavaaia.\n",
      "caylah.\n",
      "davier.\n",
      "jahlina.\n",
      "luciano.\n"
     ]
    }
   ],
   "source": [
    "# sample from the model\n",
    "for _ in range(20):\n",
    "    \n",
    "    out = []\n",
    "    context = [0] * block_size # initialize with all ...\n",
    "    while True:\n",
    "      # forward pass the neural net\n",
    "      logits = model(torch.tensor([context])) # (1,block_size) -> (1,vocab_size)\n",
    "      probs = F.softmax(logits, dim=1)\n",
    "      # sample from the distribution\n",
    "      ix = torch.multinomial(probs, num_samples=1).item()\n",
    "      # shift the context window and track the samples\n",
    "      context = context[1:] + [ix]\n",
    "      out.append(ix)\n",
    "      # if we sample the special '.' token, break\n",
    "      if ix == 0:\n",
    "        break\n",
    "    \n",
    "    print(''.join(itos[i] for i in out)) # decode and print the generated word"
   ]
  },
  {
   "cell_type": "markdown",
   "metadata": {},
   "source": [
    "## Next time:\n",
    "Why Convolutions? Brief preview/hint"
   ]
  },
  {
   "cell_type": "code",
   "execution_count": 141,
   "metadata": {},
   "outputs": [
    {
     "name": "stdout",
     "output_type": "stream",
     "text": [
      "........ --> e\n",
      ".......e --> l\n",
      "......el --> i\n",
      ".....eli --> a\n",
      "....elia --> n\n",
      "...elian --> y\n",
      "..eliany --> s\n",
      ".elianys --> .\n"
     ]
    }
   ],
   "source": [
    "for x,y in zip(Xtr[0:8], Ytr[0:8]):\n",
    "  print(''.join(itos[ix.item()] for ix in x), '-->', itos[y.item()])"
   ]
  },
  {
   "cell_type": "code",
   "execution_count": 142,
   "metadata": {},
   "outputs": [
    {
     "data": {
      "text/plain": [
       "torch.Size([1, 27])"
      ]
     },
     "execution_count": 142,
     "metadata": {},
     "output_type": "execute_result"
    }
   ],
   "source": [
    "# forward pass a single example\n",
    "logits = model(Xtr[[0]])\n",
    "logits.shape"
   ]
  },
  {
   "cell_type": "code",
   "execution_count": 143,
   "metadata": {},
   "outputs": [
    {
     "data": {
      "text/plain": [
       "torch.Size([8, 27])"
      ]
     },
     "execution_count": 143,
     "metadata": {},
     "output_type": "execute_result"
    }
   ],
   "source": [
    "# forward all of them \n",
    "logits = torch.zeros(8, 27)\n",
    "for i in range(8):\n",
    "  logits[i] = model(Xtr[[i]])\n",
    "logits.shape"
   ]
  },
  {
   "cell_type": "code",
   "execution_count": null,
   "metadata": {},
   "outputs": [],
   "source": [
    "# convolutions is \"for loop\"\n",
    "# allows us to forward Linear Layers efficiently over space\n",
    "class Conv1d:\n",
    "  \n",
    "  def __init__(self, in_channels, out_channels, kernel_size, stride=1, padding=0):\n",
    "    self.weight = torch.randn((out_channels, in_channels, kernel_size)) * (2/(in_channels+out_channels))**0.5\n",
    "    self.bias = torch.zeros(out_channels)\n",
    "    self.stride = stride\n",
    "    self.padding = padding\n",
    "    \n",
    "  def __call__(self, x):\n",
    "    self.x = x\n",
    "    # Unfold the input tensor to get sliding windows\n",
    "    x_unfolded = x.unfoald(2, self.weight.shape[2], self.stride).contiguous()\n",
    "    B, C, L, K = x_unfolded.shape\n",
    "    x_unfolded = x_unfolded.view(B, C, L, K).permute(0, 2, 1, 3)\n",
    "    \n",
    "    # Perform the convolution manually\n",
    "    self.out = torch.einsum('bijk,ojk->bio', x_unfolded, self.weight) + self.bias[None, :, None]\n",
    "    return self.out\n",
    "  \n",
    "  def parameters(self):\n",
    "    return [self.weight, self.bias]\n",
    "\n",
    "class CasualDilutedConv1d:\n",
    "  \n",
    "  def __init__(self, in_channels, out_channels, kernel_size, dilation):\n",
    "    self.weight = torch.randn((out_channels, in_channels, kernel_size)) * (2/(in_channels+out_channels))**0.5\n",
    "    self.bias = torch.zeros(out_channels)\n",
    "    self.dilation = dilation\n",
    "    \n",
    "  def __call__(self, x):\n",
    "    self.x = x\n",
    "    self.out = F.conv1d(x, self.weight, self.bias, padding=self.dilation, dilation=self.dilation)\n",
    "    return self.out\n",
    "  \n",
    "  def parameters(self):\n",
    "    return [self.weight, self.bias]"
   ]
  },
  {
   "cell_type": "code",
   "execution_count": null,
   "metadata": {},
   "outputs": [
    {
     "data": {
      "text/plain": [
       "tensor([3., 6., 9., 7.])"
      ]
     },
     "execution_count": 24,
     "metadata": {},
     "output_type": "execute_result"
    }
   ],
   "source": [
    "import torch\n",
    "import torch.nn\n",
    "import torch.nn.functional as F\n",
    "\n",
    "N =4, \n",
    "M = 3\n",
    "#Embedding : (32, 8, 24)\n",
    "x = torch.tensor([1,2,3,4])\n",
    "w = torch.tensor([1,1,1])\n",
    "stride = 1\n",
    "padding = 1\n",
    "size_out = (x.shape[0] - w.shape[0] + 2 * padding)//stride + 1\n",
    "pad = torch.zeros(padding, dtype=x.dtype)\n",
    "x = torch.cat([pad, x, pad])\n",
    "y = torch.zeros(size_out)\n",
    "for i in range(size_out):\n",
    "  start = i * stride\n",
    "  end = start + w.shape[0]  \n",
    "  y[i] = x[start:end] @ w\n",
    "y"
   ]
  },
  {
   "cell_type": "code",
   "execution_count": 27,
   "metadata": {},
   "outputs": [
    {
     "name": "stdout",
     "output_type": "stream",
     "text": [
      "tensor([[6, 9]])\n",
      "torch.Size([1, 2])\n"
     ]
    }
   ],
   "source": [
    "x = torch.tensor([1,2,3,4]).reshape(1, 4)\n",
    "w = torch.tensor([1,1,1]).reshape(1,1, 3)\n",
    "\n",
    "# conv1d = torch.nn.Conv1d(1, 1, 3, bias=False)\n",
    "y = torch.nn.functional.conv1d(x, w, padding=0)\n",
    "print(y)\n",
    "print(y.shape)\n"
   ]
  },
  {
   "cell_type": "code",
   "execution_count": 32,
   "metadata": {},
   "outputs": [
    {
     "name": "stdout",
     "output_type": "stream",
     "text": [
      "torch.Size([1, 1, 4])\n",
      "torch.Size([1, 1, 6])\n",
      "torch.Size([1, 1, 4])\n"
     ]
    },
    {
     "data": {
      "text/plain": [
       "tensor([[[3., 6., 9., 7.]]])"
      ]
     },
     "execution_count": 32,
     "metadata": {},
     "output_type": "execute_result"
    }
   ],
   "source": [
    "N =4, \n",
    "M = 3\n",
    "x = torch.tensor([1,2,3,4]).reshape(1,1,4)\n",
    "w = torch.tensor([1,1,1])\n",
    "stride = 1\n",
    "padding = 1\n",
    "size_out = (x.shape[-1] - w.shape[0] + 2 * padding)//stride + 1\n",
    "pad = torch.zeros((1,1,padding), dtype=x.dtype)\n",
    "print(x.shape)\n",
    "x = torch.cat([pad, x, pad], dim=2)\n",
    "print(x.shape)\n",
    "y = torch.zeros(1, 1, size_out)\n",
    "print(y.shape)\n",
    "batch_size, seq_length, size = x.shape\n",
    "for b in range(batch_size):\n",
    "  for l in range(seq_length):\n",
    "    for i in range(size_out):\n",
    "      start = i * stride\n",
    "      end = start + w.shape[0]  \n",
    "      y[b, l, i] = x[b, l, start:end] @ w\n",
    "\n",
    "y"
   ]
  },
  {
   "cell_type": "code",
   "execution_count": null,
   "metadata": {},
   "outputs": [
    {
     "name": "stdout",
     "output_type": "stream",
     "text": [
      "tensor([[[0, 1, 2]]])\n",
      "tensor([[[1, 2, 3]]])\n",
      "tensor([[[2, 3, 4]]])\n",
      "tensor([[[3, 4, 0]]])\n",
      "tensor([[[0, 1, 2, 3, 4, 0]]])\n",
      "torch.Size([1, 1, 4])\n"
     ]
    }
   ],
   "source": [
    "for i in range(size_out):\n",
    "    print(x[...,i:i+3])\n",
    "print(x)\n",
    "print(x.shape[:-1] + (size_out,))"
   ]
  },
  {
   "cell_type": "markdown",
   "metadata": {},
   "source": [
    "lets think how dilation would look like"
   ]
  },
  {
   "cell_type": "code",
   "execution_count": 54,
   "metadata": {},
   "outputs": [
    {
     "name": "stdout",
     "output_type": "stream",
     "text": [
      "torch.Size([1, 1, 2])\n",
      "torch.Size([3])\n",
      "torch.Size([1, 1, 3])\n",
      "torch.Size([3])\n",
      "torch.Size([1, 1, 3])\n"
     ]
    },
    {
     "data": {
      "text/plain": [
       "tensor([[[6., 4.]]])"
      ]
     },
     "execution_count": 54,
     "metadata": {},
     "output_type": "execute_result"
    }
   ],
   "source": [
    "x =  torch.tensor([1,2,3,4]).reshape(1, 1, 4)\n",
    "w = torch.tensor([1,1,1]).reshape(1,1,3)\n",
    "stride = 1\n",
    "padding = 1\n",
    "dilation = 2\n",
    "size_out = (x.shape[-1] + 2 * padding - (w.shape[-1] - 1) * dilation  - 1)//stride + 1\n",
    "pad = torch.zeros((1,1,padding), dtype=x.dtype)\n",
    "x = torch.cat([pad, x, pad], dim=-1)\n",
    "y = torch.zeros(1, 1, size_out)\n",
    "batch_size, seq_length, size = x.shape\n",
    "print(y.shape)\n",
    "for b in range(batch_size):\n",
    "  for l in range(seq_length):\n",
    "    for i in range(size_out):\n",
    "      start = i * stride\n",
    "      end = start + dilation * (w.shape[-1] - 1) + 1\n",
    "      print(x[b, l, start:end:dilation].shape)\n",
    "      print(w.shape)\n",
    "      y[b, l, i] = (x[b, l, start:end:dilation] * w).sum()\n",
    "y"
   ]
  },
  {
   "cell_type": "code",
   "execution_count": 66,
   "metadata": {},
   "outputs": [
    {
     "name": "stdout",
     "output_type": "stream",
     "text": [
      "torch.Size([1, 2, 2])\n",
      "torch.Size([1, 1, 6])\n",
      "torch.Size([1, 3])\n",
      "torch.Size([1, 3])\n",
      "torch.Size([1, 3])\n",
      "torch.Size([1, 3])\n",
      "torch.Size([1, 3])\n",
      "torch.Size([1, 3])\n",
      "torch.Size([1, 3])\n",
      "torch.Size([1, 3])\n"
     ]
    },
    {
     "data": {
      "text/plain": [
       "tensor([[[6., 4.],\n",
       "         [4., 1.]]])"
      ]
     },
     "execution_count": 66,
     "metadata": {},
     "output_type": "execute_result"
    }
   ],
   "source": [
    "# Correct conv logic with different in_channels and out_channels\n",
    "in_channels = 1\n",
    "out_channels = 2\n",
    "x =  torch.tensor([1,2,3,4]).reshape(1, in_channels, 4)\n",
    "w = torch.tensor([[1,1,1], [1,0,1]]).reshape(out_channels,in_channels,3)\n",
    "stride = 1\n",
    "padding = 1\n",
    "dilation = 2\n",
    "batch_size, seq_length, size = x.shape\n",
    "\n",
    "size_out = (x.shape[-1] + 2 * padding - (w.shape[-1] - 1) * dilation  - 1)//stride + 1\n",
    "pad = torch.zeros((batch_size,in_channels,padding), dtype=x.dtype)\n",
    "x = torch.cat([pad, x, pad], dim=-1)\n",
    "y = torch.zeros(batch_size, out_channels, size_out)\n",
    "\n",
    "print(y.shape)\n",
    "print(x.shape)\n",
    "for b in range(batch_size):\n",
    "  for l in range(out_channels):\n",
    "    for i in range(size_out):\n",
    "      start = i * stride\n",
    "      end = start + dilation * (w.shape[-1] - 1) + 1\n",
    "      print(x[b, :, start:end:dilation].shape)\n",
    "      print(w[l].shape)\n",
    "      y[b, l, i] = (x[b, :, start:end:dilation] * w[l]).sum()\n",
    "y"
   ]
  },
  {
   "cell_type": "code",
   "execution_count": 57,
   "metadata": {},
   "outputs": [
    {
     "data": {
      "text/plain": [
       "tensor([[[ 0.4224, -1.1704,  0.4819]],\n",
       "\n",
       "        [[ 0.2800,  0.9983,  0.8257]]])"
      ]
     },
     "execution_count": 57,
     "metadata": {},
     "output_type": "execute_result"
    }
   ],
   "source": [
    "torch.randn(2,1,3)"
   ]
  },
  {
   "cell_type": "code",
   "execution_count": null,
   "metadata": {},
   "outputs": [],
   "source": []
  }
 ],
 "metadata": {
  "kernelspec": {
   "display_name": "nn_zero_to_hero",
   "language": "python",
   "name": "python3"
  },
  "language_info": {
   "codemirror_mode": {
    "name": "ipython",
    "version": 3
   },
   "file_extension": ".py",
   "mimetype": "text/x-python",
   "name": "python",
   "nbconvert_exporter": "python",
   "pygments_lexer": "ipython3",
   "version": "3.11.11"
  }
 },
 "nbformat": 4,
 "nbformat_minor": 2
}
